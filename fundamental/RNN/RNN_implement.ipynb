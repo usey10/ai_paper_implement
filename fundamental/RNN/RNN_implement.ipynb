{
  "cells": [
    {
      "cell_type": "markdown",
      "metadata": {
        "id": "uvfQhQTSeMps"
      },
      "source": [
        "## RNN(순환 신경망, Recurrent Neural Network)"
      ]
    },
    {
      "cell_type": "markdown",
      "metadata": {
        "id": "KRR8yR7PNtvs"
      },
      "source": [
        "#### NP로 RNN 이해하기"
      ]
    },
    {
      "cell_type": "code",
      "execution_count": 11,
      "metadata": {
        "id": "EhXizbgvLirF"
      },
      "outputs": [],
      "source": [
        "import numpy as np\n",
        "\n",
        "timesteps = 10 # 시점의 수. NLP에서는 보통 문장의 길이\n",
        "input_dim = 4 # 입력의 차원. NLP에서는 보통 단어 벡터의 차원\n",
        "hidden_size = 8 # 은닉 상태의 크기(메모리 셀의 용량)\n",
        "\n",
        "inputs = np.random.random((timesteps, input_dim)) # 입력 2D Tensor\n",
        "\n",
        "hidden_state_t = np.zeros((hidden_size,)) # 초기 은닉 상태"
      ]
    },
    {
      "cell_type": "code",
      "execution_count": 12,
      "metadata": {
        "colab": {
          "base_uri": "https://localhost:8080/"
        },
        "id": "RiF2J-_gL-2s",
        "outputId": "b9dad4e9-e30b-46e9-8603-2723a1d41166"
      },
      "outputs": [
        {
          "name": "stdout",
          "output_type": "stream",
          "text": [
            "(10, 4)\n",
            "[0. 0. 0. 0. 0. 0. 0. 0.]\n"
          ]
        }
      ],
      "source": [
        "print(inputs.shape)\n",
        "print(hidden_state_t)"
      ]
    },
    {
      "cell_type": "code",
      "execution_count": 13,
      "metadata": {
        "colab": {
          "base_uri": "https://localhost:8080/"
        },
        "id": "RY6eDu3IMGVe",
        "outputId": "fe4ed136-9af2-4b11-f0f2-9ee76ef55187"
      },
      "outputs": [
        {
          "name": "stdout",
          "output_type": "stream",
          "text": [
            "(8, 4)\n",
            "(8, 8)\n",
            "(8,)\n"
          ]
        }
      ],
      "source": [
        "Wx = np.random.random((hidden_size, input_dim)) # (8,4), 입력에 대한 가중치\n",
        "Wh = np.random.random((hidden_size, hidden_size)) # (8,8), 은닉 상태 가중치\n",
        "b = np.random.random((hidden_size,)) # (8,), 편향(bias)\n",
        "\n",
        "print(np.shape(Wx))\n",
        "print(np.shape(Wh))\n",
        "print(np.shape(b))"
      ]
    },
    {
      "cell_type": "code",
      "execution_count": 16,
      "metadata": {
        "colab": {
          "base_uri": "https://localhost:8080/"
        },
        "id": "Va52HzJyPEDU",
        "outputId": "5c22b62e-020b-481d-d364-9e0ed0754ef0"
      },
      "outputs": [
        {
          "name": "stdout",
          "output_type": "stream",
          "text": [
            "(4,)\n",
            "[0.4589433  0.86324712 0.77717019 0.76957596]\n"
          ]
        }
      ],
      "source": [
        "for input_t in inputs:\n",
        "  print(input_t.shape)\n",
        "  print(input_t)\n",
        "  break"
      ]
    },
    {
      "cell_type": "code",
      "execution_count": 18,
      "metadata": {
        "colab": {
          "base_uri": "https://localhost:8080/"
        },
        "id": "srmcf0eHMnWq",
        "outputId": "aab55f0f-81db-4fac-abb3-21907557dfbf"
      },
      "outputs": [
        {
          "name": "stdout",
          "output_type": "stream",
          "text": [
            "(8,)\n",
            "[0.99996453 0.99997925 0.99999892 0.99999722 0.99995496 0.9999922\n",
            " 0.99993341 0.99999865]\n",
            "(8,)\n",
            "[0.99997407 0.99997084 0.99999957 0.99999798 0.99996272 0.99999506\n",
            " 0.99997275 0.99999876]\n",
            "(8,)\n",
            "[0.99996796 0.99995372 0.99999928 0.99999698 0.99995527 0.9999939\n",
            " 0.99995922 0.99999801]\n",
            "(8,)\n",
            "[0.99996183 0.99998266 0.9999993  0.99999771 0.99992905 0.99999247\n",
            " 0.9999443  0.99999808]\n",
            "(8,)\n",
            "[0.99991295 0.99985856 0.9999945  0.99998411 0.99979595 0.9999766\n",
            " 0.99972246 0.99998286]\n",
            "(8,)\n",
            "[0.99991773 0.99988757 0.99999216 0.99998733 0.99990868 0.99998218\n",
            " 0.99966446 0.99999193]\n",
            "(8,)\n",
            "[0.99996309 0.99993107 0.99999898 0.9999958  0.99994731 0.99999274\n",
            " 0.99994696 0.99999707]\n",
            "(8,)\n",
            "[0.99991189 0.99997017 0.9999947  0.99999371 0.99989056 0.99998397\n",
            " 0.99964804 0.99999476]\n",
            "(8,)\n",
            "[0.99994275 0.99997567 0.99999837 0.99999683 0.99992567 0.99999133\n",
            " 0.99987851 0.999997  ]\n",
            "(8,)\n",
            "[0.99995622 0.99989429 0.9999977  0.99999069 0.9999202  0.99998594\n",
            " 0.99990285 0.99999518]\n",
            "(10, 8)\n",
            "[[0.99996453 0.99997925 0.99999892 0.99999722 0.99995496 0.9999922\n",
            "  0.99993341 0.99999865]\n",
            " [0.99997407 0.99997084 0.99999957 0.99999798 0.99996272 0.99999506\n",
            "  0.99997275 0.99999876]\n",
            " [0.99996796 0.99995372 0.99999928 0.99999698 0.99995527 0.9999939\n",
            "  0.99995922 0.99999801]\n",
            " [0.99996183 0.99998266 0.9999993  0.99999771 0.99992905 0.99999247\n",
            "  0.9999443  0.99999808]\n",
            " [0.99991295 0.99985856 0.9999945  0.99998411 0.99979595 0.9999766\n",
            "  0.99972246 0.99998286]\n",
            " [0.99991773 0.99988757 0.99999216 0.99998733 0.99990868 0.99998218\n",
            "  0.99966446 0.99999193]\n",
            " [0.99996309 0.99993107 0.99999898 0.9999958  0.99994731 0.99999274\n",
            "  0.99994696 0.99999707]\n",
            " [0.99991189 0.99997017 0.9999947  0.99999371 0.99989056 0.99998397\n",
            "  0.99964804 0.99999476]\n",
            " [0.99994275 0.99997567 0.99999837 0.99999683 0.99992567 0.99999133\n",
            "  0.99987851 0.999997  ]\n",
            " [0.99995622 0.99989429 0.9999977  0.99999069 0.9999202  0.99998594\n",
            "  0.99990285 0.99999518]]\n"
          ]
        }
      ],
      "source": [
        "total_hidden_states = []\n",
        "\n",
        "# (8,4)(4,) + (8,8)(8,) + (8,) = (8,)\n",
        "# 셀 동작\n",
        "for input_t in inputs:\n",
        "  # tanh(Wx*X + Wh*H + b)\n",
        "  output_t = np.tanh(np.dot(Wx, input_t) + np.dot(Wh, hidden_state_t) + b)\n",
        "  total_hidden_states.append(list(output_t)) # 각 시점의 은닉상태 체크\n",
        "  hidden_state_t = output_t # 은닉 상태 저장\n",
        "\n",
        "total_hidden_states = np.stack(total_hidden_states, axis = 0) # 값 정리\n",
        "\n",
        "print(total_hidden_states.shape)\n",
        "print(total_hidden_states)"
      ]
    },
    {
      "cell_type": "markdown",
      "metadata": {
        "id": "36fb-BWaNzeQ"
      },
      "source": [
        "#### 파이토치를 활용한 RNN"
      ]
    },
    {
      "cell_type": "code",
      "execution_count": 19,
      "metadata": {
        "id": "T3rOdjFWN2pK"
      },
      "outputs": [],
      "source": [
        "import torch\n",
        "import torch.nn as nn\n",
        "\n",
        "input_size = 5\n",
        "hidden_size = 8\n",
        "\n",
        "# (batch_size, time_steps, input_size)\n",
        "inputs = torch.Tensor(1,10,5)\n",
        "\n",
        "cell = nn.RNN(input_size, hidden_size, batch_first=True)\n",
        "# batch_first = True 는 배치 차원이 가장 앞으로 오게 함.(False 시 가장 뒤로)"
      ]
    },
    {
      "cell_type": "code",
      "execution_count": 21,
      "metadata": {
        "colab": {
          "base_uri": "https://localhost:8080/"
        },
        "id": "adS1-Ik6OmIa",
        "outputId": "5366970d-b60e-4338-f0fd-37acaee2f26a"
      },
      "outputs": [
        {
          "name": "stdout",
          "output_type": "stream",
          "text": [
            "torch.Size([1, 10, 8])\n",
            "torch.Size([1, 1, 8])\n"
          ]
        }
      ],
      "source": [
        "outputs, _status = cell(inputs)\n",
        "print(outputs.shape) # 모든 time_steps 의 hidden_state\n",
        "print(_status.shape) # 최종 time_steps 의 hidden_state"
      ]
    },
    {
      "cell_type": "code",
      "execution_count": 22,
      "metadata": {
        "colab": {
          "base_uri": "https://localhost:8080/"
        },
        "id": "2a1ijRBnOoga",
        "outputId": "9587d2fc-4fe6-4f6f-ddff-bac7d156c342"
      },
      "outputs": [
        {
          "name": "stdout",
          "output_type": "stream",
          "text": [
            "torch.Size([1, 10, 8])\n",
            "torch.Size([2, 1, 8])\n"
          ]
        }
      ],
      "source": [
        "## 은닉층 두개 RNN\n",
        "\n",
        "# (batch_size, time_steps, input_size)\n",
        "inputs = torch.Tensor(1,10,5)\n",
        "\n",
        "cell = nn.RNN(input_size = 5, hidden_size = 8, num_layers = 2, batch_first=True)\n",
        "outputs, _status = cell(inputs)\n",
        "print(outputs.shape) # 모든 time_steps 의 hidden_state\n",
        "print(_status.shape) # 최종 time_steps 의 hidden_state"
      ]
    },
    {
      "cell_type": "code",
      "execution_count": 23,
      "metadata": {
        "colab": {
          "base_uri": "https://localhost:8080/"
        },
        "id": "0XgDYEkgQfA-",
        "outputId": "43626954-5a1a-4921-d632-c45c0ace0fa0"
      },
      "outputs": [
        {
          "name": "stdout",
          "output_type": "stream",
          "text": [
            "torch.Size([1, 10, 16])\n",
            "torch.Size([4, 1, 8])\n"
          ]
        }
      ],
      "source": [
        "## 양뱡향 RNN\n",
        "\n",
        "# : 시점 t 의 출력값을 예측할 때, 이전 시점의 데이터만이 아닌 이후 데이터로도 예측할 수 있다는 아이디어에서 기반\n",
        "\n",
        "# Forward States : 앞 시점의 은닉 상태\n",
        "# Backward States : 뒤 시점의 은닉 상태\n",
        "\n",
        "inputs = torch.Tensor(1,10,5)\n",
        "\n",
        "# 양방향 RNN 구현 - bidirectional = True\n",
        "cell = nn.RNN(input_size = 5, hidden_size = 8, num_layers = 2, batch_first=True, bidirectional=True)\n",
        "outputs, _status = cell(inputs)\n",
        "print(outputs.shape) # 모든 time_steps 의 hidden_state - 은닉 상태가 양방향이 연결되어서 x 2됨.\n",
        "print(_status.shape) # 최종 time_steps 의 hidden_state - 층 2개 * 은닉 상태 2개 -> 4"
      ]
    },
    {
      "cell_type": "markdown",
      "metadata": {
        "id": "HRLS-6NNXpJY"
      },
      "source": [
        "#### RNN 구현해보기"
      ]
    },
    {
      "cell_type": "code",
      "execution_count": 1,
      "metadata": {
        "id": "6XxhJCLfVCdQ"
      },
      "outputs": [],
      "source": [
        "import torch\n",
        "import torch.nn as nn\n",
        "import torch.optim as optim\n",
        "import numpy as np"
      ]
    },
    {
      "cell_type": "code",
      "execution_count": 2,
      "metadata": {
        "colab": {
          "base_uri": "https://localhost:8080/"
        },
        "id": "58mrwA7r_t34",
        "outputId": "4b9b493b-58d9-42a9-a884-95d5d1a202e5"
      },
      "outputs": [
        {
          "name": "stdout",
          "output_type": "stream",
          "text": [
            "Using device = cuda:0\n"
          ]
        }
      ],
      "source": [
        "import torch\n",
        "\n",
        "# Check if CUDA is available\n",
        "device = torch.device('cpu')\n",
        "if torch.cuda.is_available():\n",
        "    device = torch.device('cuda')\n",
        "\n",
        "torch.set_default_device(device)\n",
        "print(f\"Using device = {torch.get_default_device()}\")"
      ]
    },
    {
      "cell_type": "code",
      "execution_count": 3,
      "metadata": {
        "id": "ZvJ68lhdXsS-"
      },
      "outputs": [],
      "source": [
        "# 1. RNN 을 활용해 이름 분류해보기"
      ]
    },
    {
      "cell_type": "code",
      "execution_count": 1,
      "metadata": {
        "colab": {
          "base_uri": "https://localhost:8080/"
        },
        "collapsed": true,
        "id": "M3bBn2NCa1As",
        "outputId": "2b5fc842-eef6-46de-cdab-17af345b9b6d"
      },
      "outputs": [
        {
          "name": "stdout",
          "output_type": "stream",
          "text": [
            "--2025-05-07 12:17:39--  https://download.pytorch.org/tutorial/data.zip\n",
            "Resolving download.pytorch.org (download.pytorch.org)... 3.167.192.82, 3.167.192.5, 3.167.192.10, ...\n",
            "Connecting to download.pytorch.org (download.pytorch.org)|3.167.192.82|:443... connected.\n",
            "HTTP request sent, awaiting response... 200 OK\n",
            "Length: 2882130 (2.7M) [application/zip]\n",
            "Saving to: ‘data.zip’\n",
            "\n",
            "data.zip            100%[===================>]   2.75M  --.-KB/s    in 0.09s   \n",
            "\n",
            "2025-05-07 12:17:39 (32.3 MB/s) - ‘data.zip’ saved [2882130/2882130]\n",
            "\n",
            "Archive:  data.zip\n",
            "   creating: data/\n",
            "  inflating: data/eng-fra.txt        \n",
            "   creating: data/names/\n",
            "  inflating: data/names/Arabic.txt   \n",
            "  inflating: data/names/Chinese.txt  \n",
            "  inflating: data/names/Czech.txt    \n",
            "  inflating: data/names/Dutch.txt    \n",
            "  inflating: data/names/English.txt  \n",
            "  inflating: data/names/French.txt   \n",
            "  inflating: data/names/German.txt   \n",
            "  inflating: data/names/Greek.txt    \n",
            "  inflating: data/names/Irish.txt    \n",
            "  inflating: data/names/Italian.txt  \n",
            "  inflating: data/names/Japanese.txt  \n",
            "  inflating: data/names/Korean.txt   \n",
            "  inflating: data/names/Polish.txt   \n",
            "  inflating: data/names/Portuguese.txt  \n",
            "  inflating: data/names/Russian.txt  \n",
            "  inflating: data/names/Scottish.txt  \n",
            "  inflating: data/names/Spanish.txt  \n",
            "  inflating: data/names/Vietnamese.txt  \n"
          ]
        }
      ],
      "source": [
        "!wget https://download.pytorch.org/tutorial/data.zip\n",
        "!unzip data.zip"
      ]
    },
    {
      "cell_type": "code",
      "execution_count": 5,
      "metadata": {
        "id": "aFU2iGfca4be"
      },
      "outputs": [],
      "source": [
        "# Data setting\n",
        "import string\n",
        "import unicodedata\n",
        "\n",
        "all_letters = string.ascii_letters + \" .,;'\" + \"_\"\n",
        "# _ 는 문자 집합에 없는 특수 글자를 표기해서 활용하기 위해서 사용!\n",
        "n_letters = len(all_letters)\n",
        "\n",
        "def unicodeToAscii(s):\n",
        "  return ''.join(\n",
        "      c for c in unicodedata.normalize('NFD', s)\n",
        "      if unicodedata.category(c) != 'Mn'\n",
        "      and c in all_letters\n",
        "  )"
      ]
    },
    {
      "cell_type": "code",
      "execution_count": 6,
      "metadata": {
        "colab": {
          "base_uri": "https://localhost:8080/"
        },
        "id": "VgBQDmu4brWQ",
        "outputId": "0090b80a-0f2d-464c-b8ce-1a0650cc4d09"
      },
      "outputs": [
        {
          "name": "stdout",
          "output_type": "stream",
          "text": [
            "abcdefghijklmnopqrstuvwxyzABCDEFGHIJKLMNOPQRSTUVWXYZ .,;'_\n",
            "58\n",
            "converting 'Ślusàrski' to Slusarski\n"
          ]
        }
      ],
      "source": [
        "print(all_letters) # 아스키 레터 + 특수 문자가 들어있는 항목까지 문자로 만듬.\n",
        "print(n_letters) # 전체 문자 개수\n",
        "print (f\"converting 'Ślusàrski' to {unicodeToAscii('Ślusàrski')}\")\n",
        " # 전체 문자에 없는 내용을 변경! 변경하는 함수"
      ]
    },
    {
      "cell_type": "code",
      "execution_count": 7,
      "metadata": {
        "id": "7qOkYlwpcJVK"
      },
      "outputs": [],
      "source": [
        "# name to tensor\n",
        "# one-hot vector 활용\n",
        "\n",
        "# 문자를 all_letter 에서 찾기\n",
        "def letterToIndex(letter):\n",
        "  if letter not in all_letters:\n",
        "    return all_letters.find(\"_\")\n",
        "  else:\n",
        "    return all_letters.find(letter)\n",
        "\n",
        "# 라인을 텐서로 바꾸기(line_length, 1, n_letters)\n",
        "def lineToTensor(line):\n",
        "  tensor = torch.zeros(len(line), 1, n_letters)\n",
        "  for li, letter in enumerate(line):\n",
        "    tensor[li][0][letterToIndex(letter)] = 1\n",
        "  return tensor\n"
      ]
    },
    {
      "cell_type": "code",
      "execution_count": 8,
      "metadata": {
        "colab": {
          "base_uri": "https://localhost:8080/"
        },
        "id": "etrHhlZeefHt",
        "outputId": "e1ed7610-c5eb-4f63-aeb0-1dd2f6127db2"
      },
      "outputs": [
        {
          "name": "stdout",
          "output_type": "stream",
          "text": [
            "35\n",
            "torch.Size([4, 1, 58])\n",
            "tensor([[[0., 0., 0., 0., 0., 0., 0., 0., 0., 0., 0., 0., 0., 0., 0., 0., 0.,\n",
            "          0., 0., 0., 0., 0., 0., 0., 0., 0., 1., 0., 0., 0., 0., 0., 0., 0.,\n",
            "          0., 0., 0., 0., 0., 0., 0., 0., 0., 0., 0., 0., 0., 0., 0., 0., 0.,\n",
            "          0., 0., 0., 0., 0., 0., 0.]],\n",
            "\n",
            "        [[0., 0., 0., 0., 0., 0., 0., 1., 0., 0., 0., 0., 0., 0., 0., 0., 0.,\n",
            "          0., 0., 0., 0., 0., 0., 0., 0., 0., 0., 0., 0., 0., 0., 0., 0., 0.,\n",
            "          0., 0., 0., 0., 0., 0., 0., 0., 0., 0., 0., 0., 0., 0., 0., 0., 0.,\n",
            "          0., 0., 0., 0., 0., 0., 0.]],\n",
            "\n",
            "        [[0., 0., 0., 0., 0., 0., 0., 0., 0., 0., 0., 0., 0., 1., 0., 0., 0.,\n",
            "          0., 0., 0., 0., 0., 0., 0., 0., 0., 0., 0., 0., 0., 0., 0., 0., 0.,\n",
            "          0., 0., 0., 0., 0., 0., 0., 0., 0., 0., 0., 0., 0., 0., 0., 0., 0.,\n",
            "          0., 0., 0., 0., 0., 0., 0.]],\n",
            "\n",
            "        [[0., 0., 0., 0., 0., 0., 0., 0., 0., 0., 0., 0., 0., 0., 0., 0., 0.,\n",
            "          0., 0., 1., 0., 0., 0., 0., 0., 0., 0., 0., 0., 0., 0., 0., 0., 0.,\n",
            "          0., 0., 0., 0., 0., 0., 0., 0., 0., 0., 0., 0., 0., 0., 0., 0., 0.,\n",
            "          0., 0., 0., 0., 0., 0., 0.]]], device='cuda:0')\n"
          ]
        }
      ],
      "source": [
        "print(letterToIndex('J'))\n",
        "print(lineToTensor('Ahnt').shape)\n",
        "print(lineToTensor('Ahnt'))"
      ]
    },
    {
      "cell_type": "code",
      "execution_count": 9,
      "metadata": {
        "id": "hTRCjvx9e6SB"
      },
      "outputs": [],
      "source": [
        "# Dataset 만들기\n",
        "\n",
        "from io import open\n",
        "import glob\n",
        "import os\n",
        "import time\n",
        "\n",
        "import torch\n",
        "from torch.utils.data import Dataset\n",
        "\n",
        "class NamesDataset(Dataset):\n",
        "  def __init__(self, data_dir):\n",
        "    self.data_dir = data_dir # 데이터 세트 주소\n",
        "    self.load_time = time.localtime # 데이터셋 로드를 위해\n",
        "    labels_set = set() # 모든 클래스를 위한 set 집합\n",
        "\n",
        "    self.data = []\n",
        "    self.data_tensors = []\n",
        "    self.labels = []\n",
        "    self.labels_tensors = []\n",
        "\n",
        "    # 폴더에 있는 txt 파일 전부 읽기\n",
        "    text_files = glob.glob(os.path.join(data_dir, '*.txt'))\n",
        "    for filename in text_files:\n",
        "      label = os.path.splitext(os.path.basename(filename))[0]\n",
        "      labels_set.add(label)\n",
        "      lines = open(filename, encoding='utf-8').read().strip().split('\\n')\n",
        "      for name in lines:\n",
        "        self.data.append(name)\n",
        "        self.data_tensors.append(lineToTensor(name))\n",
        "        self.labels.append(label)\n",
        "\n",
        "    # 레이블의 텐서 표시 캐치\n",
        "    self.labels_uniq = list(labels_set)\n",
        "    for idx in range(len(self.labels)):\n",
        "      temp_tensor = torch.tensor([self.labels_uniq.index(self.labels[idx])], dtype=torch.long)\n",
        "      self.labels_tensors.append(temp_tensor)\n",
        "\n",
        "  def __len__(self):\n",
        "    return len(self.data)\n",
        "\n",
        "  def __getitem__(self, idx):\n",
        "    data_item = self.data[idx]\n",
        "    data_label = self.labels[idx]\n",
        "    data_tensor = self.data_tensors[idx]\n",
        "    label_tensor = self.labels_tensors[idx]\n",
        "\n",
        "    return label_tensor, data_tensor, data_label, data_item"
      ]
    },
    {
      "cell_type": "code",
      "execution_count": 10,
      "metadata": {
        "colab": {
          "base_uri": "https://localhost:8080/"
        },
        "id": "7S6paWAQpRDB",
        "outputId": "a7af689e-ee2e-4b4b-d1b7-0f462d2678af"
      },
      "outputs": [
        {
          "name": "stdout",
          "output_type": "stream",
          "text": [
            "loaded 20074 items of data\n",
            "example = (tensor([16], device='cuda:0'), tensor([[[0., 0., 0., 0., 0., 0., 0., 0., 0., 0., 0., 0., 0., 0., 0., 0., 0.,\n",
            "          0., 0., 0., 0., 0., 0., 0., 0., 0., 0., 0., 0., 1., 0., 0., 0., 0.,\n",
            "          0., 0., 0., 0., 0., 0., 0., 0., 0., 0., 0., 0., 0., 0., 0., 0., 0.,\n",
            "          0., 0., 0., 0., 0., 0., 0.]],\n",
            "\n",
            "        [[1., 0., 0., 0., 0., 0., 0., 0., 0., 0., 0., 0., 0., 0., 0., 0., 0.,\n",
            "          0., 0., 0., 0., 0., 0., 0., 0., 0., 0., 0., 0., 0., 0., 0., 0., 0.,\n",
            "          0., 0., 0., 0., 0., 0., 0., 0., 0., 0., 0., 0., 0., 0., 0., 0., 0.,\n",
            "          0., 0., 0., 0., 0., 0., 0.]],\n",
            "\n",
            "        [[0., 0., 0., 0., 0., 0., 0., 0., 0., 0., 0., 0., 0., 0., 0., 0., 0.,\n",
            "          0., 0., 0., 0., 1., 0., 0., 0., 0., 0., 0., 0., 0., 0., 0., 0., 0.,\n",
            "          0., 0., 0., 0., 0., 0., 0., 0., 0., 0., 0., 0., 0., 0., 0., 0., 0.,\n",
            "          0., 0., 0., 0., 0., 0., 0.]],\n",
            "\n",
            "        [[0., 0., 0., 0., 0., 0., 0., 0., 1., 0., 0., 0., 0., 0., 0., 0., 0.,\n",
            "          0., 0., 0., 0., 0., 0., 0., 0., 0., 0., 0., 0., 0., 0., 0., 0., 0.,\n",
            "          0., 0., 0., 0., 0., 0., 0., 0., 0., 0., 0., 0., 0., 0., 0., 0., 0.,\n",
            "          0., 0., 0., 0., 0., 0., 0.]],\n",
            "\n",
            "        [[0., 0., 0., 0., 0., 0., 0., 0., 0., 0., 0., 0., 0., 0., 0., 0., 0.,\n",
            "          0., 1., 0., 0., 0., 0., 0., 0., 0., 0., 0., 0., 0., 0., 0., 0., 0.,\n",
            "          0., 0., 0., 0., 0., 0., 0., 0., 0., 0., 0., 0., 0., 0., 0., 0., 0.,\n",
            "          0., 0., 0., 0., 0., 0., 0.]]], device='cuda:0'), 'English', 'Davis')\n"
          ]
        }
      ],
      "source": [
        "alldata = NamesDataset('data/names')\n",
        "print(f\"loaded {len(alldata)} items of data\")\n",
        "print(f\"example = {alldata[4000]}\")"
      ]
    },
    {
      "cell_type": "code",
      "execution_count": 11,
      "metadata": {
        "colab": {
          "base_uri": "https://localhost:8080/"
        },
        "id": "EUv4A18ozOHj",
        "outputId": "3c29d21c-fcde-428c-a5f5-939be1b1f92f"
      },
      "outputs": [
        {
          "name": "stdout",
          "output_type": "stream",
          "text": [
            "18 ['data/names/French.txt', 'data/names/Polish.txt', 'data/names/Spanish.txt', 'data/names/German.txt', 'data/names/Japanese.txt', 'data/names/Italian.txt', 'data/names/Irish.txt', 'data/names/English.txt', 'data/names/Portuguese.txt', 'data/names/Arabic.txt', 'data/names/Czech.txt', 'data/names/Scottish.txt', 'data/names/Greek.txt', 'data/names/Vietnamese.txt', 'data/names/Korean.txt', 'data/names/Dutch.txt', 'data/names/Chinese.txt', 'data/names/Russian.txt']\n",
            "Polish\n",
            "['Adamczak', 'Adamczyk', 'Andrysiak', 'Auttenberg', 'Bartosz', 'Bernard', 'Bobienski', 'Bosko', 'Broż', 'Brzezicki', 'Budny', 'Bukoski', 'Bukowski', 'Chlebek', 'Chmiel', 'Czajka', 'Czajkowski', 'Dubanowski', 'Dubicki', 'Dunajski', 'Dziedzic', 'Fabian', 'Filipek', 'Filipowski', 'Gajos', 'Gniewek', 'Gomolka', 'Gomulka', 'Gorecki', 'Górka', 'Górski', 'Grzeskiewicz', 'Gwozdek', 'Jagoda', 'Janda', 'Janowski', 'Jaskolski', 'Jaskulski', 'Jedynak', 'Jelen', 'Jez', 'Jordan', 'Kaczka', 'Kaluza', 'Kamiński', 'Kasprzak', 'Kava', 'Kedzierski', 'Kijek', 'Klimek', 'Kosmatka', 'Kowalczyk', 'Kowalski', 'Koziol', 'Kozlow', 'Kozlowski', 'Krakowski', 'Król', 'Kumiega', 'Lawniczak', 'Lis', 'Majewski', 'Malinowski', 'Maly', 'Marek', 'Marszałek', 'Maslanka', 'Mencher', 'Miazga', 'Michel', 'Mikolajczak', 'Mozdzierz', 'Niemczyk', 'Niemec', 'Nosek', 'Nowak', 'Pakulski', 'Pasternack', 'Pasternak', 'Paszek', 'Piatek', 'Piontek', 'Pokorny', 'Poplawski', 'Róg', 'Rudaski', 'Rudawski', 'Rusnak', 'Rutkowski', 'Sadowski', 'Salomon', 'Serafin', 'Sienkiewicz', 'Sierzant', 'Sitko', 'Skala', 'Slaski', 'Ślązak', 'Ślusarczyk', 'Ślusarski', 'Smolák', 'Sniegowski', 'Sobol', 'Sokal', 'Sokolof', 'Sokoloff', 'Sokolofsky', 'Sokolowski', 'Sokolsky', 'Sówka', 'Stanek', 'Starek', 'Stawski', 'Stolarz', 'Szczepanski', 'Szewc', 'Szwarc', 'Szweda', 'Szwedko', 'Walentowicz', 'Warszawski', 'Wawrzaszek', 'Wiater', 'Winograd', 'Winogrodzki', 'Wojda', 'Wojewódka', 'Wojewódzki', 'Wronski', 'Wyrick', 'Wyrzyk', 'Zabek', 'Zawisza', 'Zdunowski', 'Zdunowski', 'Zielinski', 'Ziemniak', 'Zientek', 'Żuraw']\n",
            "Adamczak\n",
            "tensor([[[0., 0., 0., 0., 0., 0., 0., 0., 0., 0., 0., 0., 0., 0., 0., 0., 0.,\n",
            "          0., 0., 0., 0., 0., 0., 0., 0., 0., 1., 0., 0., 0., 0., 0., 0., 0.,\n",
            "          0., 0., 0., 0., 0., 0., 0., 0., 0., 0., 0., 0., 0., 0., 0., 0., 0.,\n",
            "          0., 0., 0., 0., 0., 0., 0.]],\n",
            "\n",
            "        [[0., 0., 0., 1., 0., 0., 0., 0., 0., 0., 0., 0., 0., 0., 0., 0., 0.,\n",
            "          0., 0., 0., 0., 0., 0., 0., 0., 0., 0., 0., 0., 0., 0., 0., 0., 0.,\n",
            "          0., 0., 0., 0., 0., 0., 0., 0., 0., 0., 0., 0., 0., 0., 0., 0., 0.,\n",
            "          0., 0., 0., 0., 0., 0., 0.]],\n",
            "\n",
            "        [[1., 0., 0., 0., 0., 0., 0., 0., 0., 0., 0., 0., 0., 0., 0., 0., 0.,\n",
            "          0., 0., 0., 0., 0., 0., 0., 0., 0., 0., 0., 0., 0., 0., 0., 0., 0.,\n",
            "          0., 0., 0., 0., 0., 0., 0., 0., 0., 0., 0., 0., 0., 0., 0., 0., 0.,\n",
            "          0., 0., 0., 0., 0., 0., 0.]],\n",
            "\n",
            "        [[0., 0., 0., 0., 0., 0., 0., 0., 0., 0., 0., 0., 1., 0., 0., 0., 0.,\n",
            "          0., 0., 0., 0., 0., 0., 0., 0., 0., 0., 0., 0., 0., 0., 0., 0., 0.,\n",
            "          0., 0., 0., 0., 0., 0., 0., 0., 0., 0., 0., 0., 0., 0., 0., 0., 0.,\n",
            "          0., 0., 0., 0., 0., 0., 0.]],\n",
            "\n",
            "        [[0., 0., 1., 0., 0., 0., 0., 0., 0., 0., 0., 0., 0., 0., 0., 0., 0.,\n",
            "          0., 0., 0., 0., 0., 0., 0., 0., 0., 0., 0., 0., 0., 0., 0., 0., 0.,\n",
            "          0., 0., 0., 0., 0., 0., 0., 0., 0., 0., 0., 0., 0., 0., 0., 0., 0.,\n",
            "          0., 0., 0., 0., 0., 0., 0.]],\n",
            "\n",
            "        [[0., 0., 0., 0., 0., 0., 0., 0., 0., 0., 0., 0., 0., 0., 0., 0., 0.,\n",
            "          0., 0., 0., 0., 0., 0., 0., 0., 1., 0., 0., 0., 0., 0., 0., 0., 0.,\n",
            "          0., 0., 0., 0., 0., 0., 0., 0., 0., 0., 0., 0., 0., 0., 0., 0., 0.,\n",
            "          0., 0., 0., 0., 0., 0., 0.]],\n",
            "\n",
            "        [[1., 0., 0., 0., 0., 0., 0., 0., 0., 0., 0., 0., 0., 0., 0., 0., 0.,\n",
            "          0., 0., 0., 0., 0., 0., 0., 0., 0., 0., 0., 0., 0., 0., 0., 0., 0.,\n",
            "          0., 0., 0., 0., 0., 0., 0., 0., 0., 0., 0., 0., 0., 0., 0., 0., 0.,\n",
            "          0., 0., 0., 0., 0., 0., 0.]],\n",
            "\n",
            "        [[0., 0., 0., 0., 0., 0., 0., 0., 0., 0., 1., 0., 0., 0., 0., 0., 0.,\n",
            "          0., 0., 0., 0., 0., 0., 0., 0., 0., 0., 0., 0., 0., 0., 0., 0., 0.,\n",
            "          0., 0., 0., 0., 0., 0., 0., 0., 0., 0., 0., 0., 0., 0., 0., 0., 0.,\n",
            "          0., 0., 0., 0., 0., 0., 0.]]], device='cuda:0')\n"
          ]
        }
      ],
      "source": [
        "text_files_test = glob.glob(os.path.join('data/names', '*.txt'))\n",
        "print(len(text_files_test), text_files_test)\n",
        "text_files_test[1]\n",
        "label_test = os.path.splitext(os.path.basename(text_files_test[1]))[0]\n",
        "print(label_test)\n",
        "lines_test = open(text_files_test[1], encoding='utf-8').read().strip().split('\\n')\n",
        "print(lines_test)\n",
        "print(lines_test[0])\n",
        "print(lineToTensor(lines_test[0]))"
      ]
    },
    {
      "cell_type": "code",
      "execution_count": 14,
      "metadata": {
        "colab": {
          "base_uri": "https://localhost:8080/"
        },
        "id": "EoIqZE-aqlvp",
        "outputId": "b5bb4b5c-4e38-4551-b64c-3c320cfb4bb2"
      },
      "outputs": [
        {
          "name": "stdout",
          "output_type": "stream",
          "text": [
            "train example = 17063, validation example = 3011\n"
          ]
        }
      ],
      "source": [
        "import torch\n",
        "\n",
        "# 데이터 분할\n",
        "train_set, test_set = torch.utils.data.random_split(alldata, [.85, .15],\n",
        "generator = torch.Generator(device=device).manual_seed(2024))\n",
        "\n",
        "print(f\"train example = {len(train_set)}, validation example = {len(test_set)}\")"
      ]
    },
    {
      "cell_type": "code",
      "execution_count": 15,
      "metadata": {
        "colab": {
          "base_uri": "https://localhost:8080/"
        },
        "id": "NO_x-Y29yutE",
        "outputId": "460b229a-3afb-4b0e-8ec8-33c977e51d3b"
      },
      "outputs": [
        {
          "data": {
            "text/plain": [
              "torch.Size([7, 1, 58])"
            ]
          },
          "execution_count": 15,
          "metadata": {},
          "output_type": "execute_result"
        }
      ],
      "source": [
        "alldata[1][1].shape"
      ]
    },
    {
      "cell_type": "code",
      "execution_count": 16,
      "metadata": {
        "id": "FvbhmPs8wfcq"
      },
      "outputs": [],
      "source": [
        "# RNN 구현\n",
        "\n",
        "import torch.nn as nn\n",
        "import torch.nn.functional as F\n",
        "\n",
        "class CharRNN(nn.Module):\n",
        "  def __init__(self, input_size, hidden_size, output_size):\n",
        "    super().__init__() # 현 클래스의 부모클래스(상위 클래스) 에 접근하는데 사용(nn.Module의 생성자 호출)\n",
        "\n",
        "    self.rnn = nn.RNN(input_size, hidden_size)\n",
        "    self.h2o = nn.Linear(hidden_size, output_size) # 출력층\n",
        "    self.softmax = nn.LogSoftmax(dim=1) # 분류를 위한 층\n",
        "\n",
        "  def forward(self, line_tensor):\n",
        "    rnn_out, hidden = self.rnn(line_tensor)\n",
        "    output = self.h2o(hidden[0]) # 시퀀스 전체를 요약한 정보 가지고 오기\n",
        "    output = self.softmax(output)\n",
        "\n",
        "    return output"
      ]
    },
    {
      "cell_type": "code",
      "execution_count": 17,
      "metadata": {
        "colab": {
          "base_uri": "https://localhost:8080/"
        },
        "id": "DIzSsSP12xGa",
        "outputId": "2da93d1d-1e2e-48d8-c2fe-59da873485c9"
      },
      "outputs": [
        {
          "name": "stdout",
          "output_type": "stream",
          "text": [
            "CharRNN(\n",
            "  (rnn): RNN(58, 128)\n",
            "  (h2o): Linear(in_features=128, out_features=18, bias=True)\n",
            "  (softmax): LogSoftmax(dim=1)\n",
            ")\n"
          ]
        }
      ],
      "source": [
        "n_hidden = 128\n",
        "\n",
        "rnn = CharRNN(n_letters, n_hidden, len(alldata.labels_uniq))\n",
        "print(rnn)"
      ]
    },
    {
      "cell_type": "code",
      "execution_count": 18,
      "metadata": {
        "colab": {
          "base_uri": "https://localhost:8080/"
        },
        "id": "kevNTfzD2-p2",
        "outputId": "53ee2894-c7c8-4392-8deb-e7f349411b1b"
      },
      "outputs": [
        {
          "name": "stdout",
          "output_type": "stream",
          "text": [
            "tensor([[-2.9083, -2.8609, -2.8313, -2.8442, -2.9897, -2.7527, -2.9878, -2.8650,\n",
            "         -2.8306, -2.8358, -2.8822, -2.9612, -2.8571, -3.0163, -2.9097, -2.9252,\n",
            "         -2.9189, -2.8883]], device='cuda:0', grad_fn=<LogSoftmaxBackward0>)\n",
            "('Dutch', 5)\n"
          ]
        }
      ],
      "source": [
        "# 텐서를 RNN 에 전달하여 예측된 출력 -> 텍스트 레이블 도출하기\n",
        "def label_from_output(output, output_labels):\n",
        "  top_n, top_i = output.topk(1)\n",
        "  label_i = top_i[0].item()\n",
        "  return output_labels[label_i], label_i\n",
        "\n",
        "input = lineToTensor('Albert')\n",
        "output = rnn(input)\n",
        "print(output)\n",
        "print(label_from_output(output, alldata.labels_uniq))"
      ]
    },
    {
      "cell_type": "code",
      "execution_count": null,
      "metadata": {
        "colab": {
          "base_uri": "https://localhost:8080/",
          "height": 287
        },
        "collapsed": true,
        "id": "OHHRLBM73mFT",
        "outputId": "78a837e9-a334-457f-bdcc-446d651d0c9d"
      },
      "outputs": [],
      "source": [
        "# 훈련하기\n",
        "\n",
        "import random\n",
        "import numpy as np\n",
        "\n",
        "# 데이터 셋 형식\n",
        "# (label_tensor, text_tensor, label, text)\n",
        "# (레이블 텐서, 텍스트 텐서, 라벨 원래값(디버깅용), 텍스트 원래값(디버깅용))\n",
        "def train(rnn, training_data, n_epoch = 10, n_batch_size=64, report_every = 50, learning_rate=0.2, criterion = nn.NLLLoss()):\n",
        "  '''\n",
        "  Learn on a batch of training_data for a specified number of iterations and reporting thresholds\n",
        "  '''\n",
        "  # 플로팅을 위한 손실 추적\n",
        "  current_loss = 0 # epoch의 누적 손실 저장\n",
        "  all_losses = [] # 각 epoch 의 평균 손실 저장\n",
        "  rnn.train()\n",
        "  optimizer = torch.optim.SGD(rnn.parameters(), lr=learning_rate) # 확률적 경사 하강법으로 옵티마이저 정의\n",
        "\n",
        "  start = time.time()\n",
        "  print(f'training on data set with n = {len(training_data)}')\n",
        "\n",
        "  for iter in range(1, n_epoch+1):\n",
        "    rnn.zero_grad() # 기울기 초기화\n",
        "\n",
        "    # 미니 배치 만들기\n",
        "    batches = list(range(len(training_data)))\n",
        "    random.shuffle(batches)\n",
        "    batches = np.array_split(batches, len(batches) // n_batch_size) # 데이터를 n_batch_size 로 분할\n",
        "\n",
        "    for idx, batch in enumerate(batches):\n",
        "      batch_loss = 0 # 해당 배치의 총 손실 저장\n",
        "      for i in batch: # 배치 내 각 데이터 포인트 처리\n",
        "        (label_tensor, text_tensor, label, text) = training_data[i]\n",
        "        output = rnn.forward(text_tensor)\n",
        "        loss = criterion(output, label_tensor)\n",
        "        batch_loss += loss\n",
        "\n",
        "      # optimize parameters\n",
        "      batch_loss.backward() # 손실에 대한 기울기 계산\n",
        "      nn.utils.clip_grad_norm_(rnn.parameters(), 3) # 기울기 폭발 방지 클리핑\n",
        "      optimizer.step() # 가중치 업데이트\n",
        "      optimizer.zero_grad() # 배치 가중치 초기화\n",
        "\n",
        "      current_loss += batch_loss.item() / len(batch) # 현재 batch의 평균 손실 계산\n",
        "\n",
        "    all_losses.append(current_loss / len(batches) ) # 현재 epoch 의 평균 손실 저장\n",
        "    if iter % report_every == 0:\n",
        "      print(f'{iter} ({iter / n_epoch:.0%}) : \\t average batch loss = {all_losses[-1]}')\n",
        "    current_loss = 0\n",
        "\n",
        "  return all_losses\n"
      ]
    },
    {
      "cell_type": "code",
      "execution_count": 20,
      "metadata": {
        "colab": {
          "base_uri": "https://localhost:8080/"
        },
        "id": "pHir58qf_BbP",
        "outputId": "bc16f02e-8bdc-4193-dbd6-4fc98db3e02c"
      },
      "outputs": [
        {
          "name": "stdout",
          "output_type": "stream",
          "text": [
            "training on data set with n = 17063\n",
            "5 (19%) : \t average batch loss = 0.8806297821537341\n",
            "10 (37%) : \t average batch loss = 0.6917866680613827\n",
            "15 (56%) : \t average batch loss = 0.5808458103479989\n",
            "20 (74%) : \t average batch loss = 0.4950666435472258\n",
            "25 (93%) : \t average batch loss = 0.4383547884913591\n",
            "training time = 499.17403960227966\n"
          ]
        }
      ],
      "source": [
        "# 미니 배치를 사용해서 지정된 에포크만큼 학습 시키기\n",
        "\n",
        "start = time.time()\n",
        "all_losses = train(rnn, train_set, n_epoch = 27, learning_rate=0.15, report_every= 5)\n",
        "end = time.time()\n",
        "print(f'training time = {end - start}')"
      ]
    },
    {
      "cell_type": "code",
      "execution_count": 21,
      "metadata": {
        "colab": {
          "base_uri": "https://localhost:8080/",
          "height": 430
        },
        "id": "R8AGLi6O_VMc",
        "outputId": "e143b580-d9b8-472b-dead-d33c034cea7b"
      },
      "outputs": [
        {
          "data": {
            "image/png": "[encoded data removed]",
            "text/plain": [
              "<Figure size 640x480 with 1 Axes>"
            ]
          },
          "metadata": {},
          "output_type": "display_data"
        }
      ],
      "source": [
        "# 결과 플로팅\n",
        "\n",
        "import matplotlib.pyplot as plt\n",
        "import matplotlib.ticker as ticker\n",
        "\n",
        "plt.figure()\n",
        "plt.plot(all_losses)\n",
        "plt.show()"
      ]
    },
    {
      "cell_type": "code",
      "execution_count": 23,
      "metadata": {
        "colab": {
          "base_uri": "https://localhost:8080/",
          "height": 506
        },
        "id": "2f-kcXXW_jwH",
        "outputId": "79891770-6fb9-4e27-9b61-60736f8d0054"
      },
      "outputs": [
        {
          "data": {
            "image/png": "[encoded data removed]",
            "text/plain": [
              "<Figure size 640x480 with 2 Axes>"
            ]
          },
          "metadata": {},
          "output_type": "display_data"
        }
      ],
      "source": [
        "# 결과 평가\n",
        "def evaluate(rnn, testing_data, classes):\n",
        "  confusion = torch.zeros(len(classes), len(classes))\n",
        "\n",
        "  rnn.eval() # 평가모드 설정\n",
        "  with torch.no_grad():\n",
        "    for i in range(len(testing_data)):\n",
        "      (label_tensor, text_tensor, label, text) = testing_data[i]\n",
        "      output = rnn(text_tensor)\n",
        "      guess, guess_i = label_from_output(output, classes)\n",
        "      label_i = classes.index(label)\n",
        "      confusion[label_i][guess_i] += 1\n",
        "\n",
        "  # 모든 행을 합계로 나누어 정규화\n",
        "  for i in range(len(classes)):\n",
        "    denom = confusion[i].sum()\n",
        "    if denom > 0:\n",
        "      confusion[i] = confusion[i] / denom\n",
        "\n",
        "  # plot 세팅\n",
        "  fig = plt.figure()\n",
        "  ax = fig.add_subplot(111)\n",
        "  cax = ax.matshow(confusion.cpu().numpy())\n",
        "  fig.colorbar(cax)\n",
        "\n",
        "  # 축 설정\n",
        "  ax.set_xticks(np.arange(len(classes)), labels=classes, rotation=90)\n",
        "  ax.set_yticks(np.arange(len(classes)), labels=classes)\n",
        "\n",
        "  # 모든 tick에서 레이블 출력\n",
        "  ax.xaxis.set_major_locator(ticker.MultipleLocator(1))\n",
        "  ax.yaxis.set_major_locator(ticker.MultipleLocator(1))\n",
        "\n",
        "  plt.show()\n",
        "\n",
        "evaluate(rnn, test_set, classes=alldata.labels_uniq)"
      ]
    },
    {
      "cell_type": "code",
      "execution_count": null,
      "metadata": {
        "id": "lFSP6sBQG-pA"
      },
      "outputs": [],
      "source": [
        "# RNN 층을 사용하지 않고 직접 구현하기\n",
        "# https://pytorch.org/tutorials/intermediate/char_rnn_generation_tutorial.html\n",
        "\n",
        "# 문자수준 RNN 을 통한 이름 생성"
      ]
    },
    {
      "cell_type": "code",
      "execution_count": 2,
      "metadata": {
        "colab": {
          "base_uri": "https://localhost:8080/"
        },
        "id": "Kdv5IHK6Rapz",
        "outputId": "b5060cca-963d-4d32-bbec-45344b3b4919"
      },
      "outputs": [
        {
          "name": "stdout",
          "output_type": "stream",
          "text": [
            "# categories: 18 ['Portuguese', 'Vietnamese', 'Italian', 'Russian', 'Dutch', 'Arabic', 'Korean', 'Scottish', 'French', 'Czech', 'Spanish', 'English', 'German', 'Japanese', 'Chinese', 'Irish', 'Polish', 'Greek']\n",
            "O'Neal\n"
          ]
        }
      ],
      "source": [
        "from io import open\n",
        "import glob\n",
        "import os\n",
        "import unicodedata\n",
        "import string\n",
        "\n",
        "all_letters = string.ascii_letters + \" .,;'-\"\n",
        "n_letters = len(all_letters) + 1 #EOS 마커 추가\n",
        "\n",
        "def findFiles(path): return glob.glob(path)\n",
        "\n",
        "# 아스키코드로 변경\n",
        "def unicodeToAscii(s):\n",
        "  return ''.join(\n",
        "      c for c in unicodedata.normalize('NFD', s)\n",
        "      if unicodedata.category(c) != 'Mn'\n",
        "      and c in all_letters\n",
        "  )\n",
        "\n",
        "# 파일 읽기\n",
        "def readLines(filename):\n",
        "  with open(filename, encoding='utf-8') as some_file:\n",
        "    return [unicodeToAscii(line.strip()) for line in some_file]\n",
        "\n",
        "# 카테고리 라인별 사전 구축\n",
        "category_lines = {}\n",
        "all_categories = []\n",
        "for filename in findFiles('data/names/*.txt'):\n",
        "  category = os.path.splitext(os.path.basename(filename))[0]\n",
        "  all_categories.append(category)\n",
        "  lines = readLines(filename)\n",
        "  category_lines[category] = lines\n",
        "\n",
        "n_categories = len(all_categories)\n",
        "\n",
        "if n_categories == 0:\n",
        "  raise RuntimeError('Data not found. Make sure that you downloadea data '\n",
        "  'from https://download.pytorch.org/tutorial/data.zip and extract it to '\n",
        "  'the current directory')\n",
        "\n",
        "print('# categories:', n_categories, all_categories)\n",
        "print(unicodeToAscii(\"O'Néàl\"))"
      ]
    },
    {
      "cell_type": "code",
      "execution_count": 3,
      "metadata": {
        "id": "YaStTT8mcLiF"
      },
      "outputs": [],
      "source": [
        "# network 만들기\n",
        "import torch\n",
        "import torch.nn as nn\n",
        "\n",
        "class RNN(nn.Module):\n",
        "  def __init__(self, input_size, hidden_size, output_size):\n",
        "    super().__init__()\n",
        "    self.hidden_size = hidden_size\n",
        "\n",
        "    self.i2h = nn.Linear(n_categories + input_size + hidden_size, hidden_size)\n",
        "    self.i2o = nn.Linear(n_categories + input_size + hidden_size, output_size)\n",
        "    self.o2o = nn.Linear(hidden_size + output_size, output_size)\n",
        "    self.dropout = nn.Dropout(0.1)\n",
        "    self.softmax = nn.LogSoftmax(dim=1)\n",
        "\n",
        "  def forward(self, category, input, hidden):\n",
        "    input_combined = torch.cat((category, input, hidden), 1)\n",
        "    hidden = self.i2h(input_combined)\n",
        "    output = self.i2o(input_combined)\n",
        "    output_combined = torch.cat((hidden, output), 1)\n",
        "    output = self.o2o(output_combined)\n",
        "    output = self.dropout(output)\n",
        "    output = self.softmax(output)\n",
        "    return output, hidden\n",
        "\n",
        "  def initHidden(self):\n",
        "    return torch.zeros(1, self.hidden_size)\n",
        "\n"
      ]
    },
    {
      "cell_type": "code",
      "execution_count": 11,
      "metadata": {
        "colab": {
          "base_uri": "https://localhost:8080/"
        },
        "id": "rW1lhjOOtTfE",
        "outputId": "0de62cef-0ed8-489e-b95d-f211902467ed"
      },
      "outputs": [
        {
          "name": "stdout",
          "output_type": "stream",
          "text": [
            "RNN(\n",
            "  (i2h): Linear(in_features=205, out_features=128, bias=True)\n",
            "  (i2o): Linear(in_features=205, out_features=59, bias=True)\n",
            "  (o2o): Linear(in_features=187, out_features=59, bias=True)\n",
            "  (dropout): Dropout(p=0.1, inplace=False)\n",
            "  (softmax): LogSoftmax(dim=1)\n",
            ")\n"
          ]
        }
      ],
      "source": [
        "\n",
        "rnn = RNN(input_size=n_letters, hidden_size=128, output_size=n_letters)\n",
        "print(rnn)"
      ]
    },
    {
      "cell_type": "code",
      "execution_count": 4,
      "metadata": {
        "id": "JkOvmVosdock"
      },
      "outputs": [],
      "source": [
        "# 훈련 준비(무작위 쌍 만들기)\n",
        "import random\n",
        "\n",
        "def randomChoice(l):\n",
        "  return l[random.randint(0, len(l) - 1)]\n",
        "\n",
        "# 랜덤 카테고리 및 라인 추첨\n",
        "def randomTrainingPair():\n",
        "  category = randomChoice(all_categories)\n",
        "  line = randomChoice(category_lines[category])\n",
        "  return category, line"
      ]
    },
    {
      "cell_type": "markdown",
      "metadata": {
        "id": "fOrOzCvRftdu"
      },
      "source": [
        "각 타임스텝(학습단어의 각 글자) 에 대해\n",
        "네트워크 입력 - (category, current letter, hidden state)\n",
        "네트워크 출력 - (next letter, next hidden state)\n",
        "\n",
        "각 학습 세트 - category(카테고리), a set of input letters(입력 글자 세트), a set of output/target letter(출력 글자 세트) 필요"
      ]
    },
    {
      "cell_type": "code",
      "execution_count": 5,
      "metadata": {
        "id": "O6Bnra67gF9o"
      },
      "outputs": [],
      "source": [
        "# one-hot vector 텐서의 카테고리\n",
        "def categoryTensor(category):\n",
        "  li = all_categories.index(category)\n",
        "  tensor = torch.zeros(1, n_categories)\n",
        "  tensor[0][li] = 1\n",
        "  return tensor\n",
        "\n",
        "# input 의 첫번째부터 마지막 글자의 one-hot 행렬(EOS 미포함)\n",
        "def inputTensor(line):\n",
        "  tensor = torch.zeros(len(line), 1, n_letters)\n",
        "  for li in range(len(line)):\n",
        "    letter = line[li]\n",
        "    tensor[li][0][all_letters.find(letter)] = 1\n",
        "  return tensor\n",
        "\n",
        "# 두번쨰 문자부터 끝까지의 텐서\n",
        "def targetTensor(line):\n",
        "  letter_indexes = [all_letters.find(line[li]) for li in range(1, len(line))]\n",
        "  letter_indexes.append(n_letters -1) # EOS\n",
        "  return torch.LongTensor(letter_indexes)\n",
        "\n",
        "\n",
        "# 훈련 중 편의를 위한 임의 쌍에 대한 변환\n",
        "def randomTrainingExample():\n",
        "  category, line = randomTrainingPair()\n",
        "  category_tensor = categoryTensor(category)\n",
        "  input_line_tensor = inputTensor(line)\n",
        "  target_line_tensor = targetTensor(line)\n",
        "  return category_tensor, input_line_tensor, target_line_tensor\n",
        "\n",
        "# One-hot vector for category\n",
        "def categoryTensor(category):\n",
        "    li = all_categories.index(category)\n",
        "    tensor = torch.zeros(1, n_categories)\n",
        "    tensor[0][li] = 1\n",
        "    return tensor\n",
        "\n",
        "# One-hot matrix of first to last letters (not including EOS) for input\n",
        "def inputTensor(line):\n",
        "    tensor = torch.zeros(len(line), 1, n_letters)\n",
        "    for li in range(len(line)):\n",
        "        letter = line[li]\n",
        "        tensor[li][0][all_letters.find(letter)] = 1\n",
        "    return tensor\n",
        "\n",
        "# ``LongTensor`` of second letter to end (EOS) for target\n",
        "def targetTensor(line):\n",
        "    letter_indexes = [all_letters.find(line[li]) for li in range(1, len(line))]\n",
        "    letter_indexes.append(n_letters - 1) # EOS\n",
        "    return torch.LongTensor(letter_indexes)"
      ]
    },
    {
      "cell_type": "code",
      "execution_count": 6,
      "metadata": {
        "id": "kA9GJvLbher0"
      },
      "outputs": [],
      "source": [
        "# Train\n",
        "\n",
        "criterion = nn.NLLLoss()\n",
        "\n",
        "learning_rate = 0.0005\n",
        "\n",
        "def train(category_tensor, input_line_tensor, target_line_tensor):\n",
        "  target_line_tensor.unsqueeze_(-1)\n",
        "  hidden = rnn.initHidden()\n",
        "\n",
        "  rnn.zero_grad()\n",
        "\n",
        "  loss = torch.Tensor([0]) # 쉽게 loss = 0 으로 이용 가능\n",
        "\n",
        "  for i in range(input_line_tensor.size(0)):\n",
        "    output, hidden = rnn(category_tensor, input_line_tensor[i], hidden)\n",
        "    l = criterion(output, target_line_tensor[i])\n",
        "    loss += l\n",
        "\n",
        "  loss.backward()\n",
        "\n",
        "  for p in rnn.parameters():\n",
        "    p.data.add_(p.grad.data, alpha=-learning_rate)\n",
        "\n",
        "  return output, loss.item() / input_line_tensor.size(0)"
      ]
    },
    {
      "cell_type": "code",
      "execution_count": 7,
      "metadata": {
        "id": "2keb-uFqiVz9"
      },
      "outputs": [],
      "source": [
        "# 훈련의 걸리는 시간 추척\n",
        "import time\n",
        "import math\n",
        "\n",
        "def timeSince(since):\n",
        "  now = time.time()\n",
        "  s = now - since\n",
        "  m = math.floor(s/60)\n",
        "  s -= m * 60\n",
        "  return '%dm %ds' % (m, s)"
      ]
    },
    {
      "cell_type": "code",
      "execution_count": 8,
      "metadata": {
        "colab": {
          "base_uri": "https://localhost:8080/"
        },
        "id": "ceO33m6Aimtt",
        "outputId": "bbca8f1a-dfbf-4762-de1d-6dd1dd52d9a7"
      },
      "outputs": [
        {
          "name": "stdout",
          "output_type": "stream",
          "text": [
            "0m 16s (5000 5%) 2.9702\n",
            "0m 33s (10000 10%) 2.3792\n",
            "0m 50s (15000 15%) 2.8963\n",
            "1m 7s (20000 20%) 1.7105\n",
            "1m 23s (25000 25%) 2.4968\n",
            "1m 39s (30000 30%) 3.0477\n",
            "1m 56s (35000 35%) 2.8261\n",
            "2m 12s (40000 40%) 1.8244\n",
            "2m 29s (45000 45%) 2.1647\n",
            "2m 46s (50000 50%) 2.2372\n",
            "3m 1s (55000 55%) 2.8247\n",
            "3m 18s (60000 60%) 2.4112\n",
            "3m 34s (65000 65%) 2.7064\n",
            "3m 50s (70000 70%) 2.1633\n",
            "4m 6s (75000 75%) 1.4919\n",
            "4m 22s (80000 80%) 3.0297\n",
            "4m 38s (85000 85%) 2.6007\n",
            "4m 55s (90000 90%) 1.2428\n",
            "5m 11s (95000 95%) 3.0324\n",
            "5m 27s (100000 100%) 1.9461\n"
          ]
        }
      ],
      "source": [
        "rnn = RNN(n_letters, 128, n_letters)\n",
        "\n",
        "n_iters = 100000\n",
        "print_every = 5000\n",
        "plot_every = 500\n",
        "all_losses = []\n",
        "total_loss = 0\n",
        "\n",
        "start = time.time()\n",
        "\n",
        "for iter in range(1, n_iters + 1):\n",
        "  output, loss = train(*randomTrainingExample())\n",
        "  total_loss += loss\n",
        "\n",
        "  if iter % print_every == 0:\n",
        "    print('%s (%d %d%%) %.4f' % (timeSince(start), iter, iter / n_iters * 100, loss))\n",
        "\n",
        "  if iter % plot_every == 0:\n",
        "    all_losses.append(total_loss / plot_every)\n",
        "    total_loss = 0"
      ]
    },
    {
      "cell_type": "code",
      "execution_count": 9,
      "metadata": {
        "colab": {
          "base_uri": "https://localhost:8080/",
          "height": 430
        },
        "id": "Kzpvawm9s91h",
        "outputId": "1d7b648f-a9b4-44ee-ca7f-d031b595d999"
      },
      "outputs": [
        {
          "data": {
            "image/png": "[encoded data removed]",
            "text/plain": [
              "<Figure size 640x480 with 1 Axes>"
            ]
          },
          "metadata": {},
          "output_type": "display_data"
        }
      ],
      "source": [
        "# 손실 확인\n",
        "import matplotlib.pyplot as plt\n",
        "\n",
        "plt.figure()\n",
        "plt.plot(all_losses)\n",
        "plt.show()"
      ]
    },
    {
      "cell_type": "code",
      "execution_count": 10,
      "metadata": {
        "colab": {
          "base_uri": "https://localhost:8080/"
        },
        "id": "T7waTUFgtBLx",
        "outputId": "22288940-62bf-49f2-db0e-ff3d458c618d"
      },
      "outputs": [
        {
          "name": "stdout",
          "output_type": "stream",
          "text": [
            "Roverik\n",
            "Uakilov\n",
            "Sakilakiv\n",
            "Garer\n",
            "Eres\n",
            "Roure\n",
            "Sallo\n",
            "Para\n",
            "Allou\n",
            "Ko\n",
            "Oho\n",
            "Ro\n",
            "Chi\n",
            "Han\n",
            "Iua\n"
          ]
        }
      ],
      "source": [
        "# 샘플 출력\n",
        "max_length = 20\n",
        "\n",
        "# 샘플 카테고리 및 처음 문자 제공\n",
        "def sample(category, start_letter='A'):\n",
        "  with torch.no_grad(): # 샘플 내용 추적 X\n",
        "    category_tensor = categoryTensor(category)\n",
        "    input = inputTensor(start_letter)\n",
        "    hidden = rnn.initHidden()\n",
        "\n",
        "    output_name = start_letter\n",
        "\n",
        "    for i in range(max_length):\n",
        "      output, hidden = rnn(category_tensor, input[0], hidden)\n",
        "      topv, topi = output.topk(1)\n",
        "      topi = topi[0][0]\n",
        "      if topi == n_letters - 1:\n",
        "        break\n",
        "      else:\n",
        "        letter = all_letters[topi]\n",
        "        output_name += letter\n",
        "      input = inputTensor(letter)\n",
        "\n",
        "    return output_name\n",
        "\n",
        "# 여러개의 시작 문자에 대한 샘플 구현\n",
        "def samples(category, start_letters = 'ABC'):\n",
        "  for start_letter in start_letters:\n",
        "    print(sample(category, start_letter))\n",
        "\n",
        "samples('Russian', 'RUS')\n",
        "\n",
        "samples('German', 'GER')\n",
        "\n",
        "samples('Spanish', 'SPA')\n",
        "\n",
        "samples('Korean', 'KOR')\n",
        "\n",
        "samples('Chinese', 'CHI')\n"
      ]
    }
  ],
  "metadata": {
    "accelerator": "GPU",
    "colab": {
      "gpuType": "T4",
      "provenance": []
    },
    "kernelspec": {
      "display_name": "Python 3",
      "name": "python3"
    },
    "language_info": {
      "name": "python"
    }
  },
  "nbformat": 4,
  "nbformat_minor": 0
}
